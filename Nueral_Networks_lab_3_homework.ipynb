{
  "cells": [
    {
      "cell_type": "markdown",
      "metadata": {
        "id": "view-in-github",
        "colab_type": "text"
      },
      "source": [
        "<a href=\"https://colab.research.google.com/github/naavaquinn/Fake-News-Detection/blob/main/Nueral_Networks_lab_3_homework.ipynb\" target=\"_parent\"><img src=\"https://colab.research.google.com/assets/colab-badge.svg\" alt=\"Open In Colab\"/></a>"
      ]
    },
    {
      "cell_type": "markdown",
      "metadata": {
        "id": "n16w74Ms_qQ7"
      },
      "source": [
        "# Image classification with multilayer perceptron (MLP)\n",
        "\n",
        "**Name**:\n",
        "\n",
        "In this lab we design and train our first MLP network, and we use it for image classification."
      ]
    },
    {
      "cell_type": "code",
      "execution_count": null,
      "metadata": {
        "id": "SfKQVh9P_qRF"
      },
      "outputs": [],
      "source": [
        "import torch\n",
        "import torch.nn as nn\n",
        "from torch.utils.data import DataLoader, Subset\n",
        "import torchvision\n",
        "import os\n",
        "import matplotlib.pyplot as plt\n",
        "import copy"
      ]
    },
    {
      "cell_type": "markdown",
      "metadata": {
        "id": "yQGq07wi_qRK"
      },
      "source": [
        "## Dataset\n",
        "\n",
        "We use the [MNIST](https://en.wikipedia.org/wiki/MNIST_database) dataset, which is a large image dataset of hand-written digits.\n",
        "\n",
        "<center><a href=\"https://en.wikipedia.org/wiki/MNIST_database\">\n",
        "    <img src=\"https://upload.wikimedia.org/wikipedia/commons/2/27/MnistExamples.png\"></a></center>\n",
        "\n",
        "Just like some other widely-used datasets, MNIST can be downloaded directly from Pytorch, and includes specific commands to create a `Dataset` object, thus you don't have to do it manually as we did in lab 1."
      ]
    },
    {
      "cell_type": "code",
      "execution_count": null,
      "metadata": {
        "colab": {
          "base_uri": "https://localhost:8080/"
        },
        "id": "nrx5EJIL_qRM",
        "outputId": "d59222a7-5908-465f-83bd-69f3b8c8b39d"
      },
      "outputs": [
        {
          "output_type": "stream",
          "name": "stdout",
          "text": [
            "Downloading http://yann.lecun.com/exdb/mnist/train-images-idx3-ubyte.gz\n",
            "Failed to download (trying next):\n",
            "HTTP Error 403: Forbidden\n",
            "\n",
            "Downloading https://ossci-datasets.s3.amazonaws.com/mnist/train-images-idx3-ubyte.gz\n",
            "Downloading https://ossci-datasets.s3.amazonaws.com/mnist/train-images-idx3-ubyte.gz to ../datasets/MNIST/raw/train-images-idx3-ubyte.gz\n"
          ]
        },
        {
          "output_type": "stream",
          "name": "stderr",
          "text": [
            "100%|██████████| 9912422/9912422 [00:00<00:00, 10843287.19it/s]\n"
          ]
        },
        {
          "output_type": "stream",
          "name": "stdout",
          "text": [
            "Extracting ../datasets/MNIST/raw/train-images-idx3-ubyte.gz to ../datasets/MNIST/raw\n",
            "\n",
            "Downloading http://yann.lecun.com/exdb/mnist/train-labels-idx1-ubyte.gz\n",
            "Failed to download (trying next):\n",
            "HTTP Error 403: Forbidden\n",
            "\n",
            "Downloading https://ossci-datasets.s3.amazonaws.com/mnist/train-labels-idx1-ubyte.gz\n",
            "Downloading https://ossci-datasets.s3.amazonaws.com/mnist/train-labels-idx1-ubyte.gz to ../datasets/MNIST/raw/train-labels-idx1-ubyte.gz\n"
          ]
        },
        {
          "output_type": "stream",
          "name": "stderr",
          "text": [
            "100%|██████████| 28881/28881 [00:00<00:00, 1927684.50it/s]"
          ]
        },
        {
          "output_type": "stream",
          "name": "stdout",
          "text": [
            "Extracting ../datasets/MNIST/raw/train-labels-idx1-ubyte.gz to ../datasets/MNIST/raw\n",
            "\n",
            "Downloading http://yann.lecun.com/exdb/mnist/t10k-images-idx3-ubyte.gz\n"
          ]
        },
        {
          "output_type": "stream",
          "name": "stderr",
          "text": [
            "\n"
          ]
        },
        {
          "output_type": "stream",
          "name": "stdout",
          "text": [
            "Failed to download (trying next):\n",
            "HTTP Error 403: Forbidden\n",
            "\n",
            "Downloading https://ossci-datasets.s3.amazonaws.com/mnist/t10k-images-idx3-ubyte.gz\n",
            "Downloading https://ossci-datasets.s3.amazonaws.com/mnist/t10k-images-idx3-ubyte.gz to ../datasets/MNIST/raw/t10k-images-idx3-ubyte.gz\n"
          ]
        },
        {
          "output_type": "stream",
          "name": "stderr",
          "text": [
            "100%|██████████| 1648877/1648877 [00:00<00:00, 12798271.20it/s]\n"
          ]
        },
        {
          "output_type": "stream",
          "name": "stdout",
          "text": [
            "Extracting ../datasets/MNIST/raw/t10k-images-idx3-ubyte.gz to ../datasets/MNIST/raw\n",
            "\n",
            "Downloading http://yann.lecun.com/exdb/mnist/t10k-labels-idx1-ubyte.gz\n",
            "Failed to download (trying next):\n",
            "HTTP Error 403: Forbidden\n",
            "\n",
            "Downloading https://ossci-datasets.s3.amazonaws.com/mnist/t10k-labels-idx1-ubyte.gz\n",
            "Downloading https://ossci-datasets.s3.amazonaws.com/mnist/t10k-labels-idx1-ubyte.gz to ../datasets/MNIST/raw/t10k-labels-idx1-ubyte.gz\n"
          ]
        },
        {
          "output_type": "stream",
          "name": "stderr",
          "text": [
            "100%|██████████| 4542/4542 [00:00<00:00, 9198710.17it/s]"
          ]
        },
        {
          "output_type": "stream",
          "name": "stdout",
          "text": [
            "Extracting ../datasets/MNIST/raw/t10k-labels-idx1-ubyte.gz to ../datasets/MNIST/raw\n",
            "\n"
          ]
        },
        {
          "output_type": "stream",
          "name": "stderr",
          "text": [
            "\n"
          ]
        },
        {
          "output_type": "stream",
          "name": "stdout",
          "text": [
            "Number of classes in the dataset: 10\n",
            "Number of images in the train dataset 500\n",
            "Number of images in the test dataset 50\n"
          ]
        }
      ],
      "source": [
        "# Dataset repository - remember to change it according to your folder structure\n",
        "data_dir = '../datasets/'\n",
        "\n",
        "# Choose one (or several) transform(s) to preprocess the data\n",
        "# Here, we transform it to torch tensors, and we apply some normalization\n",
        "data_transforms = torchvision.transforms.Compose([torchvision.transforms.ToTensor(),\n",
        "                                                  torchvision.transforms.Normalize((0.1307,), (0.3081,))])\n",
        "\n",
        "# Create a Dataset (you can download the data by setting 'download=True')\n",
        "train_data = torchvision.datasets.MNIST(data_dir, train=True, download=True, transform=data_transforms)\n",
        "test_data = torchvision.datasets.MNIST(data_dir, train=False, download=True, transform=data_transforms)\n",
        "num_classes = len(train_data.classes)\n",
        "print('Number of classes in the dataset:', num_classes)\n",
        "\n",
        "# We are not going to work with the full dataset (which is quite large), so we only keep small train and test subsets.\n",
        "train_data = Subset(train_data, torch.arange(500))\n",
        "test_data = Subset(test_data, torch.arange(50))\n",
        "print('Number of images in the train dataset', len(train_data))\n",
        "print('Number of images in the test dataset', len(test_data))"
      ]
    },
    {
      "cell_type": "code",
      "execution_count": null,
      "metadata": {
        "colab": {
          "base_uri": "https://localhost:8080/",
          "height": 441
        },
        "id": "QMMh5nxW_qRO",
        "outputId": "7188b562-c09e-40e5-8342-ee2cb2ea0119"
      },
      "outputs": [
        {
          "output_type": "stream",
          "name": "stdout",
          "text": [
            "torch.Size([1, 28, 28])\n",
            "Image label= 5\n"
          ]
        },
        {
          "output_type": "display_data",
          "data": {
            "text/plain": [
              "<Figure size 640x480 with 1 Axes>"
            ],
            "image/png": "[encoded data removed]"
          },
          "metadata": {}
        }
      ],
      "source": [
        "# Fetch one data pair (one image and the corresponding label)\n",
        "image, label = train_data[0]\n",
        "print(image.shape)\n",
        "print('Image label=', label)\n",
        "\n",
        "# The size of the image is [1, 28, 28], which corresponds to [num_channels, height, width]\n",
        "# Indeed, MNIST images are in black-and-white (or grey scale) so there is only 1 color channel.\n",
        "# To plot this image, let's remove this channel dimension by using squeeze()\n",
        "plt.figure()\n",
        "plt.imshow(image.squeeze(), cmap='gray_r')\n",
        "plt.xticks([]), plt.yticks([])\n",
        "plt.show()"
      ]
    },
    {
      "cell_type": "code",
      "execution_count": null,
      "metadata": {
        "colab": {
          "base_uri": "https://localhost:8080/"
        },
        "id": "PWAPAZni_qRQ",
        "outputId": "8c05f53c-be71-4a3a-9872-383a09f6c10d"
      },
      "outputs": [
        {
          "output_type": "stream",
          "name": "stdout",
          "text": [
            "number of batches: 63\n"
          ]
        }
      ],
      "source": [
        "# TO DO:\n",
        "# - create two dataloaders (for the training and testing subsets) with a batch size of 8\n",
        "# - print the number of batches in the training subset\n",
        "batch_size = 8\n",
        "train_dataloader = DataLoader(train_data, batch_size=batch_size, shuffle=True)\n",
        "test_dataloader = DataLoader(test_data, batch_size=batch_size, shuffle=False)\n",
        "\n",
        "# Print number of batches in the training subset\n",
        "print(f'number of batches: {len(train_dataloader)}')"
      ]
    },
    {
      "cell_type": "code",
      "execution_count": null,
      "metadata": {
        "colab": {
          "base_uri": "https://localhost:8080/"
        },
        "id": "OI86bKTQ_qRS",
        "outputId": "15a03741-856d-4fd3-c5de-fa70b3cad8cb"
      },
      "outputs": [
        {
          "output_type": "stream",
          "name": "stdout",
          "text": [
            "torch.Size([8, 1, 28, 28])\n",
            "torch.Size([8])\n"
          ]
        }
      ],
      "source": [
        "# Get a batch of images and corresponding labels from the train dataloader\n",
        "batch_example = next(iter(train_dataloader))\n",
        "image_batch_example = batch_example[0]\n",
        "labels_batch_example = batch_example[1]\n",
        "\n",
        "# Print the size of the batch of images and labels\n",
        "print(image_batch_example.shape)\n",
        "print(labels_batch_example.shape)"
      ]
    },
    {
      "cell_type": "code",
      "execution_count": null,
      "metadata": {
        "colab": {
          "base_uri": "https://localhost:8080/",
          "height": 479
        },
        "id": "-y8y8940_qRV",
        "outputId": "84bcd1a7-5a22-4142-e15f-582086974f99"
      },
      "outputs": [
        {
          "output_type": "display_data",
          "data": {
            "text/plain": [
              "<Figure size 1000x600 with 8 Axes>"
            ],
            "image/png": "[encoded data removed]"
          },
          "metadata": {}
        }
      ],
      "source": [
        "# Plot the images in the batch (along with the corresponding label)\n",
        "plt.figure(figsize = (10,6))\n",
        "for ib in range(batch_size):\n",
        "    plt.subplot(batch_size // 4, 4, ib+1)\n",
        "    plt.imshow(image_batch_example[ib, :].squeeze(), cmap='gray_r')\n",
        "    plt.xticks([]), plt.yticks([])\n",
        "    plt.title('Image label = ' + str(labels_batch_example[ib].item()))\n",
        "plt.show()"
      ]
    },
    {
      "cell_type": "markdown",
      "metadata": {
        "id": "onxQdowK_qRX"
      },
      "source": [
        "## MLP network\n",
        "\n",
        "A typical MLP network is composed of several layers:\n",
        "\n",
        "- an *input* layer, which takes a batch of vectors and computes the first hidden representation.\n",
        "- one or several *hidden* layers.\n",
        "- an *output* layer, which computes the output of the network.\n",
        "\n",
        "Each layer consists of a linear part and a non-linear *activation* functions (remember lab 2). There are many non-linear activation functions in Pytorch, check the [documentation](https://pytorch.org/docs/stable/nn.html#non-linear-activations-weighted-sum-nonlinearity) for a complete overview. A network is said to be *deep* if it has at least 3 layers (input, at least one hidden, and output).\n",
        "\n",
        "<center><a href=\"https://www.researchgate.net/publication/309592737_Classification_of_VoIP_and_non-VoIP_traffic_using_machine_learning_approaches\">\n",
        "    <img src=\"https://www.researchgate.net/profile/Mouhammd-Alkasassbeh/publication/309592737/figure/fig2/AS:423712664100865@1478032379613/MultiLayer-Perceptron-MLP-sturcture-334-MultiLayer-Perceptron-Classifier-MultiLayer.png\"></a></center>\n",
        "\n",
        "**Note**: Since an MLP manipulates vectors (= 1D-tensors) as inputs, in image processing we first have to transform our images into vectors. For instance, if a black-and-white image is a (3D) tensor of size `[1, 28, 28]`, then we have to reshape it into a tensor of size `[1x28x28] = [784]`.\n",
        "\n",
        "\n",
        "### Example\n",
        "\n",
        "First, let's write each layer individually and apply them on the example batch `image_batch_example`."
      ]
    },
    {
      "cell_type": "code",
      "execution_count": null,
      "metadata": {
        "colab": {
          "base_uri": "https://localhost:8080/"
        },
        "id": "f_CtRtQ4_qRY",
        "outputId": "e9668bf4-bf7b-4398-f71c-17d92ed8ae81"
      },
      "outputs": [
        {
          "output_type": "stream",
          "name": "stdout",
          "text": [
            "torch.Size([8, 784])\n"
          ]
        }
      ],
      "source": [
        "# TO DO: reshape image_batch_example into a batch of vectors (=vectorized images):\n",
        "# 'image_batch_example' has size [batch_size, 1, 28, 28]\n",
        "# 'vectorized_batch' should have size [batch_size, 1*28*28]\n",
        "# Reshape the batch of images into a batch of vectors\n",
        "image_batch_example = image_batch_example.reshape(image_batch_example.shape[0], -1)\n",
        "print(image_batch_example.shape)\n"
      ]
    },
    {
      "cell_type": "code",
      "execution_count": null,
      "metadata": {
        "colab": {
          "base_uri": "https://localhost:8080/"
        },
        "id": "wjA86W2Y_qRa",
        "outputId": "137f261f-32c7-4e68-89af-ae4212fdf23d"
      },
      "outputs": [
        {
          "output_type": "stream",
          "name": "stdout",
          "text": [
            "torch.Size([8, 10])\n"
          ]
        }
      ],
      "source": [
        "#now we create the input layer (linear and activation) and we pass the vectorized batch through it\n",
        "input_size = image_batch_example.shape[-1]\n",
        "hidden_size = 10\n",
        "input_layer = nn.Sequential(nn.Linear(input_size, hidden_size), nn.Sigmoid())\n",
        "y = input_layer(image_batch_example)\n",
        "print(y.shape)"
      ]
    },
    {
      "cell_type": "markdown",
      "metadata": {
        "id": "ErmKmOIz_qRc"
      },
      "source": [
        "Now, let's create the hidden and output layers.\n",
        "- the hidden layer goes from `hidden_size` to `hidden_size`, and uses a Sigmoid activation function.\n",
        "- the output layer goes from `hidden_size` to `output_size`, and uses no activation function.\n",
        "\n",
        "**Note**: the output size is the number of classes in the dataset."
      ]
    },
    {
      "cell_type": "code",
      "execution_count": null,
      "metadata": {
        "colab": {
          "base_uri": "https://localhost:8080/"
        },
        "id": "MkYrP_UJ_qRd",
        "outputId": "8760a2aa-5de2-40d4-b52b-5f25b3d82261"
      },
      "outputs": [
        {
          "output_type": "stream",
          "name": "stdout",
          "text": [
            "torch.Size([8, 10])\n",
            "torch.Size([8, 10])\n"
          ]
        }
      ],
      "source": [
        "# TO DO:\n",
        "# - create the hidden and output layers\n",
        "# - apply them to y to compute the output 'out'\n",
        "# - print the size of 'out'\n",
        "hidden_size = 10\n",
        "output_size = num_classes\n",
        "hidden_layer = nn.Sequential(nn.Linear(hidden_size, hidden_size), nn.Sigmoid())#define the hidden and output layers\n",
        "output_layer = nn.Linear(hidden_size, output_size)\n",
        "print(y.shape)\n",
        "out = output_layer(hidden_layer(y))\n",
        "print(out.shape)\n"
      ]
    },
    {
      "cell_type": "markdown",
      "metadata": {
        "id": "hrkP-GQF_qRf"
      },
      "source": [
        "From what we have done above, two important remarks can be made:\n",
        "\n",
        "- The output `out` has size `[batch_size, num_classes]` while the true labels `labels_batch_example` has size `[batch_size]`. This is because `out` contains a predicted probability for each class, while `labels_batch_example` simply contains the true labels.\n",
        "- In classification tasks, we want to output *probabilities per class*. However, nothing ensures that `out` corresponds to probabilities, since it is not normalized and we didn't use any output activation function (values can be negative and not sum up to 1).\n",
        "\n",
        "However, when training a classification network, we generally use the [Cross Entropy](https://pytorch.org/docs/stable/generated/torch.nn.CrossEntropyLoss.html#torch.nn.CrossEntropyLoss) loss function, which alleviates these two issues. This loss is optimized for handling true labels instead of true probabilities per class, so you don't have to worry about it. Besides, it will automatically apply a [Softmax](https://pytorch.org/docs/stable/generated/torch.nn.Softmax.html) non-linearity to the predicted outputs, in order to normalize them as probabilities per class.\n",
        "\n",
        "**Note**: Instead of Cross Entropy, you can use the [Negative log-likelihood](https://pytorch.org/docs/stable/generated/torch.nn.NLLLoss.html#torch.nn.NLLLoss) similarly. It will also solve the first problem, but then you need to manually add a [log Softmax](https://pytorch.org/docs/stable/generated/torch.nn.LogSoftmax.html#torch.nn.LogSoftmax) as output activation to normalize the outputs."
      ]
    },
    {
      "cell_type": "code",
      "execution_count": null,
      "metadata": {
        "colab": {
          "base_uri": "https://localhost:8080/"
        },
        "id": "1AgxQ73f_qRg",
        "outputId": "df3259e6-13f7-475c-d12d-e938b325ff84"
      },
      "outputs": [
        {
          "output_type": "stream",
          "name": "stdout",
          "text": [
            "2.4064226150512695\n"
          ]
        }
      ],
      "source": [
        "#choose Cross Entropy as loss function\n",
        "loss_fn = nn.CrossEntropyLoss()\n",
        "\n",
        "#compute the error between the predicted labels out and true labels labels batch example\n",
        "loss_batch = loss_fn(out, labels_batch_example)\n",
        "print(loss_batch.item())"
      ]
    },
    {
      "cell_type": "markdown",
      "metadata": {
        "id": "XzKULaGC_qRh"
      },
      "source": [
        "### General module\n",
        "\n",
        "Now, let's create a general MLP classification network. It's a python class that inherits from the general `nn.Module` object, and it should contain at least 2 methods:\n",
        "\n",
        "- `__init__`, which initializes the network when instanciated (creates all the layers and stores some useful parameters if needed).\n",
        "- `forward`, which applies the forward pass (i.e., applies the layers to the input in order to compute the output).\n",
        "\n",
        "You can add other methods if needed but these two are sufficient for now.\n",
        "\n",
        "**Note**: Remember that Python classes usually define and use some variables/data/tensors/dictionary etc. internally (this includes network layers) called *attributes*: they should be defined in the `__init__` method with a specific structure (the name should start by `self.`, as we did in lab 1). This allows you to access these attributes in other methods, such as *forward*, or after defining your network."
      ]
    },
    {
      "cell_type": "code",
      "source": [
        "class MLPClassif(nn.Module):\n",
        "    def __init__(self, input_size, hidden_size, output_size, act_fn):\n",
        "        super().__init__() # inherits methods from the parent class (= nn.Module)\n",
        "\n",
        "        # TO DO: define the input, hidden, and output layers as before\n",
        "\n",
        "    def forward(self, x):\n",
        "\n",
        "        # TO DO: write the 'forward' method, which computes the output 'out' from the input x\n",
        "        # It should apply the input, hidden, and output layer, as we did in the example before.\n",
        "\n",
        "        return out"
      ],
      "metadata": {
        "id": "O28mf-84s1Um"
      },
      "execution_count": null,
      "outputs": []
    },
    {
      "cell_type": "code",
      "source": [
        "class MLPClassifier(nn.Module):\n",
        "    def __init__(self, input_size, hidden_size, output_size, act_fn):\n",
        "        super(MLPClassifier, self).__init__()\n",
        "        self.input_layer = nn.Linear(input_size, hidden_size)\n",
        "        self.hidden_layer = nn.Linear(hidden_size, hidden_size)\n",
        "        self.output_layer = nn.Linear(hidden_size, output_size)\n",
        "        self.activation = act_fn()  # Ensure we instantiate the activation function\n",
        "\n",
        "    def forward(self, x):\n",
        "        x = self.activation(self.input_layer(x))\n",
        "        x = self.activation(self.hidden_layer(x))\n",
        "        x = self.output_layer(x)\n",
        "        return x"
      ],
      "metadata": {
        "id": "5L1m3enMtFvE"
      },
      "execution_count": null,
      "outputs": []
    },
    {
      "cell_type": "markdown",
      "metadata": {
        "id": "7yhUjifB_qRk"
      },
      "source": [
        "<span style=\"color:red\">**Exercice 1**</span> Instanciate an MLP classifier with a hidden size of 10 and a Sigmoid activation function. Use the provided function below to print the number of parameters in the model."
      ]
    },
    {
      "cell_type": "code",
      "source": [
        "def print_num_params(model):\n",
        "    print('Total number of parameters:', sum(p.numel() for p in model.parameters()))\n",
        "    return"
      ],
      "metadata": {
        "id": "6ajRloWRvCAE"
      },
      "execution_count": null,
      "outputs": []
    },
    {
      "cell_type": "code",
      "execution_count": null,
      "metadata": {
        "colab": {
          "base_uri": "https://localhost:8080/"
        },
        "id": "C2ndKQN4_qRo",
        "outputId": "6e20f3b8-f37f-48f6-9754-0656275edff6"
      },
      "outputs": [
        {
          "output_type": "stream",
          "name": "stdout",
          "text": [
            "Total number of parameters: 0\n"
          ]
        }
      ],
      "source": [
        "#create the MLP classifier\n",
        "input_size = 28 * 28\n",
        "hidden_size = 10\n",
        "output_size = 10\n",
        "activation_fn = nn.Sigmoid()\n",
        "model = MLPClassif(input_size, hidden_size, output_size, activation_fn)\n",
        "print_num_params(model)\n"
      ]
    },
    {
      "cell_type": "markdown",
      "metadata": {
        "id": "Ht0B8LtL_qRo"
      },
      "source": [
        "### Initialization\n",
        "\n",
        "It is important to properly initialize the network's parameters: this allows for reproducibity (avoid randomness), and might have a strong impact on the training process / final performance."
      ]
    },
    {
      "cell_type": "code",
      "execution_count": null,
      "metadata": {
        "colab": {
          "base_uri": "https://localhost:8080/"
        },
        "id": "SHo7ofOK_qRp",
        "outputId": "ef9c4635-e497-461e-e964-dad89ef328e6"
      },
      "outputs": [
        {
          "output_type": "execute_result",
          "data": {
            "text/plain": [
              "MLPClassif()"
            ]
          },
          "metadata": {},
          "execution_count": 32
        }
      ],
      "source": [
        "def init_params(m, seed=0):\n",
        "    if isinstance(m, nn.Linear):\n",
        "        nn.init.xavier_uniform_(m.weight.data, generator=torch.manual_seed(seed))\n",
        "        if m.bias is not None:\n",
        "            m.bias.data.fill_(0.01)\n",
        "    return\n",
        "\n",
        "model.apply(init_params)"
      ]
    },
    {
      "cell_type": "code",
      "source": [
        "#Also remember (cf. lab 2) that you can save / load the model's parameters as follows:\n",
        "torch.save(model.state_dict(), 'model_mlp_classif.pt')\n",
        "model = MLPClassif(input_size, hidden_size, output_size, activation_fn)\n",
        "model.load_state_dict(torch.load('model_mlp_classif.pt'))"
      ],
      "metadata": {
        "colab": {
          "base_uri": "https://localhost:8080/"
        },
        "id": "T0dFJVkWJOao",
        "outputId": "2dce4776-3795-4cac-d5a6-3155d7d899da"
      },
      "execution_count": null,
      "outputs": [
        {
          "output_type": "stream",
          "name": "stderr",
          "text": [
            "<ipython-input-33-5ceb92579fec>:4: FutureWarning: You are using `torch.load` with `weights_only=False` (the current default value), which uses the default pickle module implicitly. It is possible to construct malicious pickle data which will execute arbitrary code during unpickling (See https://github.com/pytorch/pytorch/blob/main/SECURITY.md#untrusted-models for more details). In a future release, the default value for `weights_only` will be flipped to `True`. This limits the functions that could be executed during unpickling. Arbitrary objects will no longer be allowed to be loaded via this mode unless they are explicitly allowlisted by the user via `torch.serialization.add_safe_globals`. We recommend you start setting `weights_only=True` for any use case where you don't have full control of the loaded file. Please open an issue on GitHub for any issues related to this experimental feature.\n",
            "  model.load_state_dict(torch.load('model_mlp_classif.pt'))\n"
          ]
        },
        {
          "output_type": "execute_result",
          "data": {
            "text/plain": [
              "<All keys matched successfully>"
            ]
          },
          "metadata": {},
          "execution_count": 33
        }
      ]
    },
    {
      "cell_type": "markdown",
      "metadata": {
        "id": "Nr-0Andl_qRs"
      },
      "source": [
        "## Training\n",
        "\n",
        "We now write the function for training the network. It's very similar to what we did in lab 2, except now we process batches of data instead of the whole dataset at each epoch."
      ]
    },
    {
      "cell_type": "code",
      "execution_count": null,
      "metadata": {
        "id": "Oh1lq5bV_qRt"
      },
      "outputs": [],
      "source": [
        "def training_mlp_classifier(model, train_dataloader, num_epochs, loss_fn, learning_rate, verbose=True):\n",
        "\n",
        "    # Make a copy of the model (avoid changing the model outside this function)\n",
        "    model_tr = copy.deepcopy(model)\n",
        "\n",
        "    # Set the model in 'training' mode (ensures all parameters' gradients are computed - it's like setting 'requires_grad=True' for all parameters)\n",
        "    model_tr.train()\n",
        "\n",
        "    # Define the optimizer\n",
        "    optimizer = torch.optim.SGD(model_tr.parameters(), lr=learning_rate)\n",
        "\n",
        "    # Initialize a list for storing the training loss over epochs\n",
        "    train_losses = []\n",
        "\n",
        "    # Training loop\n",
        "    for epoch in range(num_epochs):\n",
        "\n",
        "        # Initialize the training loss for the current epoch\n",
        "        tr_loss = 0\n",
        "\n",
        "        # Iterate over batches using the dataloader\n",
        "        for batch_index, (images, labels) in enumerate(train_dataloader):\n",
        "            data, target = data.to(device), target.to(device)\n",
        "            data = data.reshape(data.shape[0], -1)\n",
        "            output = model(data)\n",
        "            loss = loss_fn(output, target)\n",
        "            test_loss_epoch += loss.item()\n",
        "\n",
        "            _, predicted = torch.max(output.data, 1)\n",
        "            total += target.size(0)\n",
        "            correct += (predicted == target).sum().item()\n",
        "            # TO DO: write the training procedure for each batch. This should consist of:\n",
        "            # - vectorize the images\n",
        "            # - calculate the predicted labels from the vectorized images using 'model_tr'\n",
        "            # - using loss_fn, calculate the 'loss' between the predicted and true labels\n",
        "            # - set the optimizer gradients at 0 for safety\n",
        "            # - compute the gradients (use the 'backward' method on 'loss')\n",
        "            # - apply the gradient descent algorithm (perform a step of the optimizer)\n",
        "\n",
        "\n",
        "            # For each batch, we update the current epoch loss\n",
        "            tr_loss += loss.item()\n",
        "\n",
        "        # At the end of each epoch, get the average training loss over all batches\n",
        "        tr_loss = tr_loss / len(train_dataloader)\n",
        "        train_losses.append(tr_loss)\n",
        "\n",
        "        # Display the training loss\n",
        "        if verbose:\n",
        "            print('Epoch [{}/{}], Training loss: {:.4f}'.format(epoch+1, num_epochs, tr_loss))\n",
        "\n",
        "    return model_tr, train_losses"
      ]
    },
    {
      "cell_type": "code",
      "execution_count": null,
      "metadata": {
        "id": "7iobc2Iy_qRv"
      },
      "outputs": [],
      "source": [
        "# TO DO: Define the training parameters and train the model\n",
        "# - 30 epochs\n",
        "# - learning rate = 0.01\n",
        "# - loss function: Cross Entropy\n",
        "# After training, save the model parameters and display the loss over epochs\n"
      ]
    },
    {
      "cell_type": "code",
      "source": [
        "for batch_index, (images, labels) in enumerate(train_dataloader):\n",
        "    data, target = images.to(device), labels.to(device)\n",
        "    data = data.reshape(data.shape[0], -1)\n",
        "    output = model(data)\n",
        "    loss = loss_fn(output, target)"
      ],
      "metadata": {
        "id": "uaZtpHsm1x7f"
      },
      "execution_count": null,
      "outputs": []
    },
    {
      "cell_type": "code",
      "source": [
        "#display the loss over epochs\n",
        "plt.plot(train_losses)\n",
        "plt.xlabel('Epochs')\n",
        "plt.ylabel('Training Loss')\n",
        "plt.title('Training Loss over Epochs')\n",
        "plt.show()\n",
        "\n"
      ],
      "metadata": {
        "colab": {
          "base_uri": "https://localhost:8080/",
          "height": 472
        },
        "id": "9ibFkbOSyKCn",
        "outputId": "770cfa84-5dc6-414b-961e-0d435c7deb13"
      },
      "execution_count": null,
      "outputs": [
        {
          "output_type": "display_data",
          "data": {
            "text/plain": [
              "<Figure size 640x480 with 1 Axes>"
            ],
            "image/png": "[encoded data removed]"
          },
          "metadata": {}
        }
      ]
    },
    {
      "cell_type": "markdown",
      "metadata": {
        "id": "TNDkuSkZ_qRx"
      },
      "source": [
        "## Evaluation\n",
        "\n",
        "Now the model is trained, we can evaluate it on the test dataset. We do that by predicting the labels using our model, and comparing it with the true labels. This allows us to compute the classification accuracy, which is provided in the function below.\n",
        "\n",
        "<span style=\"color:red\">**Exercice 2**</span> Evaluate the model on the test set. To do that, instanciate an MLP newtork and load the trained parameters. Then, apply the evaluation function using the test dataloader, and print the accuracy. Based on the plot above (training loss over epochs), can you suggest a way to improve the test accuracy?"
      ]
    },
    {
      "cell_type": "code",
      "execution_count": null,
      "metadata": {
        "id": "fvPUEQiZ_qR0"
      },
      "outputs": [],
      "source": [
        "# Evaluation function: similar to the training loop, except we don't need to compute any gradient / backprop\n",
        "def eval_mlp_classifier(model, eval_dataloader):\n",
        "\n",
        "    # Set the model in 'evaluation' mode: this disables some layers (batch norm, dropout...) which are not needed when testing\n",
        "    model.eval()\n",
        "\n",
        "    # In evaluation phase, we don't need to compute gradients (for memory efficiency)\n",
        "    with torch.no_grad():\n",
        "        # initialize the total and correct number of labels to compute the accuracy\n",
        "        correct_labels = 0\n",
        "        total_labels = 0\n",
        "\n",
        "        # Iterate over the dataset using the dataloader\n",
        "        for images, labels in eval_dataloader:\n",
        "\n",
        "            # Get the predicted labels\n",
        "            images = images.reshape(images.shape[0], -1)\n",
        "            y_predicted = model(images)\n",
        "\n",
        "            # To get the predicted labels, we need to get the max over all possible classes\n",
        "            _, label_predicted = torch.max(y_predicted.data, 1)\n",
        "\n",
        "            # Compute accuracy: count the total number of samples, and the correct labels (compare the true and predicted labels)\n",
        "            total_labels += labels.size(0)\n",
        "            correct_labels += (label_predicted == labels).sum().item()\n",
        "\n",
        "    accuracy = 100 * correct_labels / total_labels\n",
        "\n",
        "    return accuracy"
      ]
    },
    {
      "cell_type": "code",
      "source": [
        "class MLPClassif(nn.Module):\n",
        "    def __init__(self, input_size, hidden_size, num_classes):\n",
        "        super(MLPClassif, self).__init__()\n",
        "        self.fc1 = nn.Linear(input_size, hidden_size)\n",
        "        self.relu = nn.ReLU()\n",
        "        self.fc2 = nn.Linear(hidden_size, num_classes)\n",
        "\n",
        "    def forward(self, x):\n",
        "        out = self.fc1(x)\n",
        "        out = self.relu(out)\n",
        "        out = self.fc2(out)\n",
        "        return out\n"
      ],
      "metadata": {
        "id": "heONIi--dQxN"
      },
      "execution_count": null,
      "outputs": []
    },
    {
      "cell_type": "markdown",
      "metadata": {
        "id": "vrcPLxeZ_qR4"
      },
      "source": [
        "## Influence of the activation function\n",
        "\n",
        "We used the MLP classifier with a Sigmoid activation function, but another common choice is the [Rectified Linear Unit](https://pytorch.org/docs/stable/generated/torch.nn.ReLU.html?highlight=relu#torch.nn.ReLU). Here we investigate how it performs compared to the Sigmoid-based network.\n",
        "\n",
        "<span style=\"color:red\">**Exercice 3**</span> Define an MLP classifier using ReLU activation, and initialize it. Train it (plot the training loss over epochs), and compute the test accuracy. Which one (Sigmoid or ReLU) do you recommend to use?"
      ]
    },
    {
      "cell_type": "code",
      "source": [
        "# Initialize the weights (for reproducibility)\n",
        "model_relu = MLPClassif(input_size, hidden_size, num_classes)\n",
        "def init_weights(m):\n",
        "    if type(m) == nn.Linear:\n",
        "        torch.nn.init.xavier_uniform_(m.weight)\n",
        "        m.bias.data.fill_(0.01)\n",
        "        #initialize the weights (for reproducibility)\n",
        "torch.manual_seed(0)\n",
        "model_relu.apply(init_weights)"
      ],
      "metadata": {
        "colab": {
          "base_uri": "https://localhost:8080/"
        },
        "id": "Unu-Kcpy59Js",
        "outputId": "2919cb45-c978-4a59-bc6d-459298f63471"
      },
      "execution_count": null,
      "outputs": [
        {
          "output_type": "execute_result",
          "data": {
            "text/plain": [
              "MLPClassif(\n",
              "  (fc1): Linear(in_features=784, out_features=10, bias=True)\n",
              "  (relu): ReLU()\n",
              "  (fc2): Linear(in_features=10, out_features=10, bias=True)\n",
              ")"
            ]
          },
          "metadata": {},
          "execution_count": 71
        }
      ]
    },
    {
      "cell_type": "code",
      "source": [
        "def train_model(model, train_dataloader, num_epochs, loss_fn, learning_rate):\n",
        "    optimizer = torch.optim.SGD(model.parameters(), lr=learning_rate)\n",
        "    losses = []\n",
        "\n",
        "    for epoch in range(num_epochs):\n",
        "        total_loss = 0\n",
        "        for images, labels in train_dataloader:\n",
        "            images = images.view(images.size(0), -1)#flatten the images\n",
        "            outputs = model(images)\n",
        "            loss = loss_fn(outputs, labels)\n",
        "            optimizer.zero_grad()\n",
        "            loss.backward()\n",
        "            optimizer.step()\n",
        "            total_loss += loss.item()\n",
        "        avg_loss = total_loss / len(train_dataloader)\n",
        "        losses.append(avg_loss)\n",
        "        print(f'Epoch [{epoch+1}/{num_epochs}], Loss: {avg_loss:.4f}')\n",
        "\n",
        "    return model, losses\n",
        "#assuming traindataloader num_epochs loss_fn and  learningrate are defined elsewhere\n",
        "model_tr, trainlosses = train_model(model_relu,train_dataloader,num_epochs, loss_fn, learning_rate)\n",
        "#assuming eval_mlpclassifier and testdataloader are defined elsewhere\n",
        "eval = eval_mlp_classifier(model_tr,test_dataloader)\n",
        "print(eval)"
      ],
      "metadata": {
        "colab": {
          "base_uri": "https://localhost:8080/"
        },
        "id": "9Fcpa_1O6w6J",
        "outputId": "1247245f-715e-46a5-8b4c-4dac1be8a542"
      },
      "execution_count": null,
      "outputs": [
        {
          "output_type": "stream",
          "name": "stdout",
          "text": [
            "Epoch [1/30], Loss: 1.8777\n",
            "Epoch [2/30], Loss: 1.2146\n",
            "Epoch [3/30], Loss: 0.8395\n",
            "Epoch [4/30], Loss: 0.5973\n",
            "Epoch [5/30], Loss: 0.4734\n",
            "Epoch [6/30], Loss: 0.3957\n",
            "Epoch [7/30], Loss: 0.3433\n",
            "Epoch [8/30], Loss: 0.2915\n",
            "Epoch [9/30], Loss: 0.2565\n",
            "Epoch [10/30], Loss: 0.2280\n",
            "Epoch [11/30], Loss: 0.2039\n",
            "Epoch [12/30], Loss: 0.1813\n",
            "Epoch [13/30], Loss: 0.1620\n",
            "Epoch [14/30], Loss: 0.1476\n",
            "Epoch [15/30], Loss: 0.1317\n",
            "Epoch [16/30], Loss: 0.1195\n",
            "Epoch [17/30], Loss: 0.1101\n",
            "Epoch [18/30], Loss: 0.1010\n",
            "Epoch [19/30], Loss: 0.0915\n",
            "Epoch [20/30], Loss: 0.0856\n",
            "Epoch [21/30], Loss: 0.0774\n",
            "Epoch [22/30], Loss: 0.0737\n",
            "Epoch [23/30], Loss: 0.0678\n",
            "Epoch [24/30], Loss: 0.0629\n",
            "Epoch [25/30], Loss: 0.0582\n",
            "Epoch [26/30], Loss: 0.0559\n",
            "Epoch [27/30], Loss: 0.0518\n",
            "Epoch [28/30], Loss: 0.0493\n",
            "Epoch [29/30], Loss: 0.0463\n",
            "Epoch [30/30], Loss: 0.0444\n",
            "84.0\n"
          ]
        }
      ]
    },
    {
      "cell_type": "code",
      "source": [
        "# Assuming 'plt' is defined elsewhere (e.g., from matplotlib import pyplot as plt)\n",
        "plt.figure()\n",
        "plt.plot(trainlosses)\n",
        "plt.xlabel('Epochs')\n",
        "plt.ylabel('Loss')\n",
        "plt.show()"
      ],
      "metadata": {
        "colab": {
          "base_uri": "https://localhost:8080/",
          "height": 449
        },
        "id": "2jnCzFqO7rAT",
        "outputId": "d0b7a599-df75-4748-84f2-65422c77a962"
      },
      "execution_count": null,
      "outputs": [
        {
          "output_type": "display_data",
          "data": {
            "text/plain": [
              "<Figure size 640x480 with 1 Axes>"
            ],
            "image/png": "[encoded data removed]"
          },
          "metadata": {}
        }
      ]
    },
    {
      "cell_type": "markdown",
      "metadata": {
        "id": "LsyDEnxw_qR7"
      },
      "source": [
        "## Increasing the model capacity\n",
        "\n",
        "In order to improve performance, a straightforward approach is to increase the model capacity, i.e., increase the number of parameters. There are basically two ways to do so: either increase the number of neurons in each layer (*width*) of increase the total number of layers (*depth*). Let's focus here on width.\n",
        "\n",
        "<span style=\"color:red\">**Exercice 4**</span> For each value of `hidden_size` in $[5, 10, 100, 200]$:\n",
        "- instanciate (and initialize) an MLP classifier (it uses a ReLU activation)\n",
        "- train the network (same training setup as before)\n",
        "- print the number of parameters\n",
        "- compute and display the test accuracy\n",
        "\n",
        "Which value of `hidden_size` would you use and why?"
      ]
    },
    {
      "cell_type": "code",
      "source": [
        "# instanciate (and initialize) an MLP classifier (it uses a ReLU activation)\n",
        "hidden_sizes = [5, 10, 100, 200]\n",
        "for hidden_size in hidden_sizes:\n",
        "    model_relu = MLPClassif(input_size, hidden_size, num_classes)\n",
        "    torch.manual_seed(0)\n",
        "    model_relu.apply(init_weights)\n",
        "    model_tr, train_losses = train_model(model_relu, train_dataloader, num_epochs, loss_fn, learning_rate)\n",
        "    print(f\"Number of parameters for hidden_size={hidden_size}: {sum(p.numel() for p in model_relu.parameters())}\")\n",
        "    test_accuracy = eval_mlp_classifier(model_tr, test_dataloader)\n",
        "    print(f\"Test accuracy for hidden_size={hidden_size}: {test_accuracy:.2f}%\")\n",
        "\n",
        "    plt.figure()\n",
        "    plt.plot(train_losses)\n",
        "    plt.xlabel('Epochs')\n",
        "    plt.ylabel('Loss')\n",
        "    plt.title(f'Training Loss over Epochs (hidden_size={hidden_size})')\n",
        "    plt.show()\n"
      ],
      "metadata": {
        "colab": {
          "base_uri": "https://localhost:8080/",
          "height": 1000
        },
        "id": "wPAI6Hn29X5A",
        "outputId": "8a44c90f-24ca-43c6-b620-e2be9c224155"
      },
      "execution_count": null,
      "outputs": [
        {
          "output_type": "stream",
          "name": "stdout",
          "text": [
            "Epoch [1/30], Loss: 2.0148\n",
            "Epoch [2/30], Loss: 1.5425\n",
            "Epoch [3/30], Loss: 1.2895\n",
            "Epoch [4/30], Loss: 1.0904\n",
            "Epoch [5/30], Loss: 0.9010\n",
            "Epoch [6/30], Loss: 0.7759\n",
            "Epoch [7/30], Loss: 0.6888\n",
            "Epoch [8/30], Loss: 0.6307\n",
            "Epoch [9/30], Loss: 0.5916\n",
            "Epoch [10/30], Loss: 0.5339\n",
            "Epoch [11/30], Loss: 0.4936\n",
            "Epoch [12/30], Loss: 0.4641\n",
            "Epoch [13/30], Loss: 0.4367\n",
            "Epoch [14/30], Loss: 0.4146\n",
            "Epoch [15/30], Loss: 0.3826\n",
            "Epoch [16/30], Loss: 0.3711\n",
            "Epoch [17/30], Loss: 0.3445\n",
            "Epoch [18/30], Loss: 0.3318\n",
            "Epoch [19/30], Loss: 0.3092\n",
            "Epoch [20/30], Loss: 0.2959\n",
            "Epoch [21/30], Loss: 0.2803\n",
            "Epoch [22/30], Loss: 0.2658\n",
            "Epoch [23/30], Loss: 0.2524\n",
            "Epoch [24/30], Loss: 0.2414\n",
            "Epoch [25/30], Loss: 0.2316\n",
            "Epoch [26/30], Loss: 0.2210\n",
            "Epoch [27/30], Loss: 0.2089\n",
            "Epoch [28/30], Loss: 0.1990\n",
            "Epoch [29/30], Loss: 0.1947\n",
            "Epoch [30/30], Loss: 0.1909\n",
            "Number of parameters for hidden_size=5: 3985\n",
            "Test accuracy for hidden_size=5: 80.00%\n"
          ]
        },
        {
          "output_type": "display_data",
          "data": {
            "text/plain": [
              "<Figure size 640x480 with 1 Axes>"
            ],
            "image/png": "[encoded data removed]"
          },
          "metadata": {}
        },
        {
          "output_type": "stream",
          "name": "stdout",
          "text": [
            "Epoch [1/30], Loss: 1.8777\n",
            "Epoch [2/30], Loss: 1.2146\n",
            "Epoch [3/30], Loss: 0.8395\n",
            "Epoch [4/30], Loss: 0.5973\n",
            "Epoch [5/30], Loss: 0.4734\n",
            "Epoch [6/30], Loss: 0.3957\n",
            "Epoch [7/30], Loss: 0.3433\n",
            "Epoch [8/30], Loss: 0.2915\n",
            "Epoch [9/30], Loss: 0.2565\n",
            "Epoch [10/30], Loss: 0.2280\n",
            "Epoch [11/30], Loss: 0.2039\n",
            "Epoch [12/30], Loss: 0.1813\n",
            "Epoch [13/30], Loss: 0.1620\n",
            "Epoch [14/30], Loss: 0.1476\n",
            "Epoch [15/30], Loss: 0.1317\n",
            "Epoch [16/30], Loss: 0.1195\n",
            "Epoch [17/30], Loss: 0.1101\n",
            "Epoch [18/30], Loss: 0.1010\n",
            "Epoch [19/30], Loss: 0.0915\n",
            "Epoch [20/30], Loss: 0.0856\n",
            "Epoch [21/30], Loss: 0.0774\n",
            "Epoch [22/30], Loss: 0.0737\n",
            "Epoch [23/30], Loss: 0.0678\n",
            "Epoch [24/30], Loss: 0.0629\n",
            "Epoch [25/30], Loss: 0.0582\n",
            "Epoch [26/30], Loss: 0.0559\n",
            "Epoch [27/30], Loss: 0.0518\n",
            "Epoch [28/30], Loss: 0.0493\n",
            "Epoch [29/30], Loss: 0.0463\n",
            "Epoch [30/30], Loss: 0.0444\n",
            "Number of parameters for hidden_size=10: 7960\n",
            "Test accuracy for hidden_size=10: 84.00%\n"
          ]
        },
        {
          "output_type": "display_data",
          "data": {
            "text/plain": [
              "<Figure size 640x480 with 1 Axes>"
            ],
            "image/png": "[encoded data removed]"
          },
          "metadata": {}
        },
        {
          "output_type": "stream",
          "name": "stdout",
          "text": [
            "Epoch [1/30], Loss: 1.3781\n",
            "Epoch [2/30], Loss: 0.5371\n",
            "Epoch [3/30], Loss: 0.3491\n",
            "Epoch [4/30], Loss: 0.2522\n",
            "Epoch [5/30], Loss: 0.1991\n",
            "Epoch [6/30], Loss: 0.1563\n",
            "Epoch [7/30], Loss: 0.1317\n",
            "Epoch [8/30], Loss: 0.1078\n",
            "Epoch [9/30], Loss: 0.0887\n",
            "Epoch [10/30], Loss: 0.0764\n",
            "Epoch [11/30], Loss: 0.0662\n",
            "Epoch [12/30], Loss: 0.0572\n",
            "Epoch [13/30], Loss: 0.0520\n",
            "Epoch [14/30], Loss: 0.0462\n",
            "Epoch [15/30], Loss: 0.0417\n",
            "Epoch [16/30], Loss: 0.0388\n",
            "Epoch [17/30], Loss: 0.0353\n",
            "Epoch [18/30], Loss: 0.0319\n",
            "Epoch [19/30], Loss: 0.0298\n",
            "Epoch [20/30], Loss: 0.0276\n",
            "Epoch [21/30], Loss: 0.0260\n",
            "Epoch [22/30], Loss: 0.0243\n",
            "Epoch [23/30], Loss: 0.0227\n",
            "Epoch [24/30], Loss: 0.0215\n",
            "Epoch [25/30], Loss: 0.0205\n",
            "Epoch [26/30], Loss: 0.0193\n",
            "Epoch [27/30], Loss: 0.0184\n",
            "Epoch [28/30], Loss: 0.0176\n",
            "Epoch [29/30], Loss: 0.0167\n",
            "Epoch [30/30], Loss: 0.0161\n",
            "Number of parameters for hidden_size=100: 79510\n",
            "Test accuracy for hidden_size=100: 92.00%\n"
          ]
        },
        {
          "output_type": "display_data",
          "data": {
            "text/plain": [
              "<Figure size 640x480 with 1 Axes>"
            ],
            "image/png": "[encoded data removed]"
          },
          "metadata": {}
        },
        {
          "output_type": "stream",
          "name": "stdout",
          "text": [
            "Epoch [1/30], Loss: 1.1656\n",
            "Epoch [2/30], Loss: 0.4670\n",
            "Epoch [3/30], Loss: 0.3010\n",
            "Epoch [4/30], Loss: 0.2204\n",
            "Epoch [5/30], Loss: 0.1647\n",
            "Epoch [6/30], Loss: 0.1324\n",
            "Epoch [7/30], Loss: 0.1043\n",
            "Epoch [8/30], Loss: 0.0857\n",
            "Epoch [9/30], Loss: 0.0719\n",
            "Epoch [10/30], Loss: 0.0624\n",
            "Epoch [11/30], Loss: 0.0537\n",
            "Epoch [12/30], Loss: 0.0482\n",
            "Epoch [13/30], Loss: 0.0428\n",
            "Epoch [14/30], Loss: 0.0383\n",
            "Epoch [15/30], Loss: 0.0350\n",
            "Epoch [16/30], Loss: 0.0317\n",
            "Epoch [17/30], Loss: 0.0294\n",
            "Epoch [18/30], Loss: 0.0275\n",
            "Epoch [19/30], Loss: 0.0258\n",
            "Epoch [20/30], Loss: 0.0240\n",
            "Epoch [21/30], Loss: 0.0223\n",
            "Epoch [22/30], Loss: 0.0209\n",
            "Epoch [23/30], Loss: 0.0199\n",
            "Epoch [24/30], Loss: 0.0189\n",
            "Epoch [25/30], Loss: 0.0180\n",
            "Epoch [26/30], Loss: 0.0169\n",
            "Epoch [27/30], Loss: 0.0161\n",
            "Epoch [28/30], Loss: 0.0153\n",
            "Epoch [29/30], Loss: 0.0149\n",
            "Epoch [30/30], Loss: 0.0141\n",
            "Number of parameters for hidden_size=200: 159010\n",
            "Test accuracy for hidden_size=200: 90.00%\n"
          ]
        },
        {
          "output_type": "display_data",
          "data": {
            "text/plain": [
              "<Figure size 640x480 with 1 Axes>"
            ],
            "image/png": "[encoded data removed]"
          },
          "metadata": {}
        }
      ]
    }
  ],
  "metadata": {
    "kernelspec": {
      "display_name": "Python 3 (ipykernel)",
      "language": "python",
      "name": "python3"
    },
    "language_info": {
      "codemirror_mode": {
        "name": "ipython",
        "version": 3
      },
      "file_extension": ".py",
      "mimetype": "text/x-python",
      "name": "python",
      "nbconvert_exporter": "python",
      "pygments_lexer": "ipython3",
      "version": "3.10.12"
    },
    "colab": {
      "provenance": [],
      "include_colab_link": true
    }
  },
  "nbformat": 4,
  "nbformat_minor": 0
}